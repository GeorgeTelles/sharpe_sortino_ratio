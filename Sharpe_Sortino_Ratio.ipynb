{
  "cells": [
    {
      "cell_type": "markdown",
      "metadata": {
        "id": "view-in-github",
        "colab_type": "text"
      },
      "source": [
        "<a href=\"https://colab.research.google.com/github/GeorgeTelles/sharpe_sortino_ratio/blob/main/Sharpe_Sortino_Ratio.ipynb\" target=\"_parent\"><img src=\"https://colab.research.google.com/assets/colab-badge.svg\" alt=\"Open In Colab\"/></a>"
      ]
    },
    {
      "cell_type": "markdown",
      "source": [
        "![Artboard 1.png](data:image/png;base64,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)"
      ],
      "metadata": {
        "id": "1Z-FUQkYyv3Q"
      }
    },
    {
      "cell_type": "markdown",
      "metadata": {
        "id": "zNRZ5ynA4UGz"
      },
      "source": [
        "---\n",
        "# **Sharpe e Sortino Ratios**\n",
        "\n",
        "#### Cálculo e comparação entre as duas importantes métricas de risco: Sharpe e Sortino\n",
        "---"
      ]
    },
    {
      "cell_type": "markdown",
      "metadata": {
        "id": "RrV-DAObJAiX"
      },
      "source": [
        "\n",
        "Antes de selecionar um ativo financeiro, os investidores devem buscar o retorno ajustado ao risco e não apenas o retorno simples. Diante disso surge uma dúvida, qual indice utilizar para medir esse retorno ajustado ao risco? o Indice Sharpe ou o Indice Sortino? será que eles são relacionados? São essas questões que vamos analisar aqui."
      ]
    },
    {
      "cell_type": "markdown",
      "metadata": {
        "id": "gFZuqiHaJAiY"
      },
      "source": [
        "\n",
        "\n",
        "---\n",
        "\n",
        "\n",
        "\n",
        "\n",
        "\n",
        "\n",
        "\n",
        "O índice de Sharpe e o índice de Sortino são métricas de retorno sobre o investimento ajustadas ao risco. O índice de Sharpe indica o desempenho de um investimento em comparação com um investimento sem risco, levando em consideração o nível de risco adicional envolvido em manter o investimento em ações. O índice Sortino é uma variação do índice Sharpe que considera apenas o risco negativo.\n",
        "\n",
        "\n",
        "\n",
        "---\n",
        "\n"
      ]
    },
    {
      "cell_type": "markdown",
      "metadata": {
        "id": "zvDjPmQMJAiY"
      },
      "source": [
        "$\\textbf{Sharpe ratio} = \\frac{R{p}-R{f}}{{\\sigma {p}}}$\n",
        "\n",
        "where:<br>\n",
        "$R{p}$ = return of portfolio (or stock)<br>\n",
        "$R{f}$ = risk-free rate<br>\n",
        "$\\sigma {p}$ = standard deviation of returns<br>\n",
        "\n",
        "\n",
        "$\\textbf{Sortino ratio} = \\frac{R{p}-R{f}}{{\\sigma {p}}}$\n",
        "\n",
        "where:<br>\n",
        "$R{p}$ = return of portfolio (or stock)<br>\n",
        "$R{f}$ = risk-free rate<br>\n",
        "$\\sigma {p}$ = standard deviation of the negative returns<br>"
      ]
    },
    {
      "cell_type": "markdown",
      "metadata": {
        "id": "Pe9RMc2OVqWe"
      },
      "source": [
        "# 1. Instalação e importação das bibliotecas"
      ]
    },
    {
      "cell_type": "code",
      "execution_count": null,
      "metadata": {
        "id": "xUMu3dcGV71y"
      },
      "outputs": [],
      "source": [
        "!pip install quantstats\n",
        "!pip install yfinance"
      ]
    },
    {
      "cell_type": "code",
      "execution_count": null,
      "metadata": {
        "id": "rv72PEPfWC8r"
      },
      "outputs": [],
      "source": [
        "import numpy as np\n",
        "import pandas as pd\n",
        "import yfinance as yf\n",
        "import quantstats as qs\n",
        "from scipy import stats\n",
        "import plotly.express as px\n",
        "import plotly.graph_objects as go\n",
        "from plotly.subplots import make_subplots"
      ]
    },
    {
      "cell_type": "markdown",
      "metadata": {
        "id": "qkEMK5YNWLNa"
      },
      "source": [
        "# 2. Obtenção de dados"
      ]
    },
    {
      "cell_type": "markdown",
      "metadata": {
        "id": "DDQi7bT_WMhb"
      },
      "source": [
        "Inicialmente, vamos observar como os dois índices estão correlacionados"
      ]
    },
    {
      "cell_type": "markdown",
      "metadata": {
        "id": "moioDbFKWOYq"
      },
      "source": [
        "Obter dados de BTC-USD"
      ]
    },
    {
      "cell_type": "code",
      "execution_count": null,
      "metadata": {
        "id": "a204X8dWWWYS"
      },
      "outputs": [],
      "source": [
        "df_btc = yf.download('BTC-USD', start = '2018-01-01')[['Close']]"
      ]
    },
    {
      "cell_type": "code",
      "execution_count": null,
      "metadata": {
        "id": "pIe44k2cWbKR"
      },
      "outputs": [],
      "source": [
        "df_btc.head()"
      ]
    },
    {
      "cell_type": "code",
      "execution_count": null,
      "metadata": {
        "id": "KDuceIwuWip4"
      },
      "outputs": [],
      "source": [
        "df_btc.plot();"
      ]
    },
    {
      "cell_type": "markdown",
      "metadata": {
        "id": "y6VKXtWOfwPe"
      },
      "source": [
        "# 3. Análise das Métricas"
      ]
    },
    {
      "cell_type": "markdown",
      "metadata": {
        "id": "8gquXJdZXE8K"
      },
      "source": [
        "Aqui calculamos Sharpe e Sortino ratios considerando uma taxa livre de risco de 5% por semestre usando uma função rolling da biblioteca quantstats."
      ]
    },
    {
      "cell_type": "code",
      "execution_count": null,
      "metadata": {
        "id": "fT9l2YsgXFjR"
      },
      "outputs": [],
      "source": [
        "sharpe_qs = pd.Series(qs.stats.rolling_sharpe(df_btc['Close'], rf = 0.05).values)\n",
        "sortino_qs = pd.Series(qs.stats.rolling_sortino(df_btc['Close'], rf = 0.05).values)\n",
        "sharpe_qs.index = df_btc.index\n",
        "sortino_qs.index = df_btc.index"
      ]
    },
    {
      "cell_type": "markdown",
      "metadata": {
        "id": "BwfzWRazXYky"
      },
      "source": [
        "Vejamos a correlação entre os dois índices"
      ]
    },
    {
      "cell_type": "code",
      "execution_count": null,
      "metadata": {
        "id": "X7ToNIcyX84y"
      },
      "outputs": [],
      "source": [
        "fig_corr = go.Figure()\n",
        "\n",
        "fig_corr.add_trace({'type':'scatter',\n",
        "                    'x': sharpe_qs,\n",
        "                    'y': sortino_qs,\n",
        "                    'mode': 'markers',\n",
        "                    'line':{'color':'blue'}})\n",
        "\n",
        "fig_corr.update_layout(template='simple_white', paper_bgcolor=\"#f7f8fa\",\n",
        "                        margin=dict(l=70, r=20, t=20, b=70),\n",
        "                        xaxis_title='<b>Sharpe', yaxis_title='<b>Sortino',\n",
        "                        width=500, height=500)"
      ]
    },
    {
      "cell_type": "code",
      "execution_count": null,
      "metadata": {
        "id": "U8uk7WAKY8Vc"
      },
      "outputs": [],
      "source": [
        "corr, p = stats.pearsonr(sharpe_qs.dropna(), sortino_qs.dropna())\n",
        "print('Correlação de Pearson, r=%.3f' %corr, 'p=%.3f' %p)"
      ]
    },
    {
      "cell_type": "markdown",
      "metadata": {
        "id": "2xSkaNnqZR3Y"
      },
      "source": [
        "Com uma correlação tão alta, seria possível tirar algum insight comparando os dois indicadores de risco?\n",
        "\n",
        "Uma correlação de Pearson de 𝑟 = 0.990 indica uma correlação extremamente alta entre os índices de Sharpe e Sortino. Isso significa que há uma relação linear muito forte e positiva entre esses dois indicadores de risco ajustado ao retorno. Quando a correlação é tão alta, isso geralmente sugere que as duas métricas estão capturando essencialmente o mesmo aspecto do desempenho ajustado ao risco, pelo menos em termos lineares."
      ]
    },
    {
      "cell_type": "code",
      "execution_count": null,
      "metadata": {
        "id": "LbWbmt0OZaMC"
      },
      "outputs": [],
      "source": [
        "fig = make_subplots(specs = [[{\"secondary_y\": True}]])\n",
        "\n",
        "fig.add_trace(go.Scatter(x = sharpe_qs.index, y = sharpe_qs,\n",
        "                         name = 'Sharpe', line = dict(color = 'blue', width = 2)),\n",
        "              secondary_y = False)\n",
        "\n",
        "fig.add_trace(go.Scatter(x = sortino_qs.index, y = sortino_qs,\n",
        "                         name = 'Sortino', line = dict(color = 'red', width = 2)),\n",
        "              secondary_y = False)\n",
        "\n",
        "fig.add_trace(go.Scatter(x = df_btc.index, y = np.log(df_btc['Close']),\n",
        "                         name = 'log price BTC-USD', line = dict(color = 'black', width = 2)),\n",
        "              secondary_y = True)\n",
        "\n",
        "fig.update_yaxes(title_text = 'Risk-adjuste values', secondary_y = False)\n",
        "fig.update_yaxes(title_text = 'log price BTC-USD', secondary_y = True)\n",
        "fig.update_layout(title='<b>Sharpe vs Sortino ratios', xaxis_title=\"<b>Data\", legend_title=\"\",\n",
        "                  font=dict(family=\"Arial, Arial, Arial\",size=15,color=\"black\"), template = 'simple_white', paper_bgcolor=\"#f7f8fa\",\n",
        "                  margin=dict(l=75, r=20, t=70, b=70), legend=dict(orientation=\"h\",yanchor=\"bottom\",y=1,xanchor=\"right\",x=0.4),\n",
        "                  width=1000,height=500)"
      ]
    },
    {
      "cell_type": "markdown",
      "metadata": {
        "id": "v58_80Ihd1_K"
      },
      "source": [
        "# 4. Insights a partir da correlação:\n",
        "\n",
        "Consistência na avaliação de risco: A alta correlação sugere que, em muitos casos, o desempenho relativo das carteiras ou investimentos será semelhante, independentemente de usar o índice de Sharpe ou o índice de Sortino. Isso pode indicar que ambos os índices oferecem resultados consistentes ao avaliar o equilíbrio entre retorno e risco.\n",
        "\n",
        "Enfoque na volatilidade negativa: Apesar da alta correlação, o índice de Sortino se concentra mais na volatilidade negativa (ou risco downside) do que o índice de Sharpe, que considera a volatilidade total. Se houver diferenças significativas na volatilidade downside entre investimentos ou carteiras, o índice de Sortino pode ser mais informativo para identificar qual deles melhor protege contra perdas.\n",
        "\n",
        "A decisão sobre qual índice usar pode depender do objetivo específico do investidor:\n",
        "\n",
        "Se o objetivo é entender o desempenho ajustado ao risco de maneira abrangente, o índice de Sharpe pode ser suficiente, dado que ele captura tanto o risco total quanto o retorno.\n",
        "\n",
        "Se o foco está na minimização de riscos significativos de desvalorização, especialmente em estratégias conservadoras, o índice de Sortino pode fornecer uma perspectiva mais relevante.\n",
        "\n",
        "Validação da estratégia de investimento: A alta correlação pode validar a estratégia de usar qualquer um dos índices para tomar decisões de investimento. Se ambos os índices levarem a conclusões semelhantes sobre quais investimentos são preferíveis com base no risco ajustado ao retorno, isso fortalece a confiança na análise realizada.\n",
        "\n",
        "Em resumo, com uma correlação tão alta entre os índices de Sharpe e Sortino, você pode confiar em qualquer um dos índices para avaliar o risco ajustado ao retorno, mas considere o contexto específico e o objetivo de investimento ao decidir qual índice utilizar."
      ]
    }
  ],
  "metadata": {
    "colab": {
      "provenance": [],
      "include_colab_link": true
    },
    "kernelspec": {
      "display_name": "Python 3",
      "name": "python3"
    },
    "language_info": {
      "codemirror_mode": {
        "name": "ipython",
        "version": 3
      },
      "file_extension": ".py",
      "mimetype": "text/x-python",
      "name": "python",
      "nbconvert_exporter": "python",
      "pygments_lexer": "ipython3",
      "version": "3.12.4"
    }
  },
  "nbformat": 4,
  "nbformat_minor": 0
}