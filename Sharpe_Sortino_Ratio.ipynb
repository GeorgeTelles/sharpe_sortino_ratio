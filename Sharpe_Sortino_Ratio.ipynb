{
  "cells": [
    {
      "cell_type": "markdown",
      "metadata": {
        "id": "view-in-github",
        "colab_type": "text"
      },
      "source": [
        "<a href=\"https://colab.research.google.com/github/GeorgeTelles/sharpe_sortino_ratio/blob/main/Sharpe_Sortino_Ratio.ipynb\" target=\"_parent\"><img src=\"https://colab.research.google.com/assets/colab-badge.svg\" alt=\"Open In Colab\"/></a>"
      ]
    },
    {
      "cell_type": "markdown",
      "metadata": {
        "id": "zNRZ5ynA4UGz"
      },
      "source": [
        "---\n",
        "# **Sharpe e Sortino Ratios**\n",
        "\n",
        "#### Cálculo e comparação entre as duas importantes métricas de risco: Sharpe e Sortino\n",
        "---"
      ]
    },
    {
      "cell_type": "markdown",
      "metadata": {
        "id": "RrV-DAObJAiX"
      },
      "source": [
        "\n",
        "Antes de selecionar um ativo financeiro, os investidores devem buscar o retorno ajustado ao risco e não apenas o retorno simples. Diante disso surge uma dúvida, qual indice utilizar para medir esse retorno ajustado ao risco? o Indice Sharpe ou o Indice Sortino? será que eles são relacionados? São essas questões que vamos analisar aqui."
      ]
    },
    {
      "cell_type": "markdown",
      "metadata": {
        "id": "gFZuqiHaJAiY"
      },
      "source": [
        "\n",
        "\n",
        "---\n",
        "\n",
        "\n",
        "\n",
        "\n",
        "\n",
        "\n",
        "\n",
        "O índice de Sharpe e o índice de Sortino são métricas de retorno sobre o investimento ajustadas ao risco. O índice de Sharpe indica o desempenho de um investimento em comparação com um investimento sem risco, levando em consideração o nível de risco adicional envolvido em manter o investimento em ações. O índice Sortino é uma variação do índice Sharpe que considera apenas o risco negativo.\n",
        "\n",
        "\n",
        "\n",
        "---\n",
        "\n"
      ]
    },
    {
      "cell_type": "markdown",
      "metadata": {
        "id": "zvDjPmQMJAiY"
      },
      "source": [
        "$\\textbf{Sharpe ratio} = \\frac{R{p}-R{f}}{{\\sigma {p}}}$\n",
        "\n",
        "where:<br>\n",
        "$R{p}$ = return of portfolio (or stock)<br>\n",
        "$R{f}$ = risk-free rate<br>\n",
        "$\\sigma {p}$ = standard deviation of returns<br>\n",
        "\n",
        "\n",
        "$\\textbf{Sortino ratio} = \\frac{R{p}-R{f}}{{\\sigma {p}}}$\n",
        "\n",
        "where:<br>\n",
        "$R{p}$ = return of portfolio (or stock)<br>\n",
        "$R{f}$ = risk-free rate<br>\n",
        "$\\sigma {p}$ = standard deviation of the negative returns<br>"
      ]
    },
    {
      "cell_type": "markdown",
      "metadata": {
        "id": "Pe9RMc2OVqWe"
      },
      "source": [
        "# 1. Instalação e importação das bibliotecas"
      ]
    },
    {
      "cell_type": "code",
      "execution_count": null,
      "metadata": {
        "id": "xUMu3dcGV71y"
      },
      "outputs": [],
      "source": [
        "!pip install quantstats\n",
        "!pip install yfinance"
      ]
    },
    {
      "cell_type": "code",
      "execution_count": null,
      "metadata": {
        "id": "rv72PEPfWC8r"
      },
      "outputs": [],
      "source": [
        "import numpy as np\n",
        "import pandas as pd\n",
        "import yfinance as yf\n",
        "import quantstats as qs\n",
        "from scipy import stats\n",
        "import plotly.express as px\n",
        "import plotly.graph_objects as go\n",
        "from plotly.subplots import make_subplots"
      ]
    },
    {
      "cell_type": "markdown",
      "metadata": {
        "id": "qkEMK5YNWLNa"
      },
      "source": [
        "# 2. Obtenção de dados"
      ]
    },
    {
      "cell_type": "markdown",
      "metadata": {
        "id": "DDQi7bT_WMhb"
      },
      "source": [
        "Inicialmente, vamos observar como os dois índices estão correlacionados"
      ]
    },
    {
      "cell_type": "markdown",
      "metadata": {
        "id": "moioDbFKWOYq"
      },
      "source": [
        "Obter dados de BTC-USD"
      ]
    },
    {
      "cell_type": "code",
      "execution_count": null,
      "metadata": {
        "id": "a204X8dWWWYS"
      },
      "outputs": [],
      "source": [
        "df_btc = yf.download('BTC-USD', start = '2018-01-01')[['Close']]"
      ]
    },
    {
      "cell_type": "code",
      "execution_count": null,
      "metadata": {
        "id": "pIe44k2cWbKR"
      },
      "outputs": [],
      "source": [
        "df_btc.head()"
      ]
    },
    {
      "cell_type": "code",
      "execution_count": null,
      "metadata": {
        "id": "KDuceIwuWip4"
      },
      "outputs": [],
      "source": [
        "df_btc.plot();"
      ]
    },
    {
      "cell_type": "markdown",
      "metadata": {
        "id": "y6VKXtWOfwPe"
      },
      "source": [
        "# 3. Análise das Métricas"
      ]
    },
    {
      "cell_type": "markdown",
      "metadata": {
        "id": "8gquXJdZXE8K"
      },
      "source": [
        "Aqui calculamos Sharpe e Sortino ratios considerando uma taxa livre de risco de 5% por semestre usando uma função rolling da biblioteca quantstats."
      ]
    },
    {
      "cell_type": "code",
      "execution_count": null,
      "metadata": {
        "id": "fT9l2YsgXFjR"
      },
      "outputs": [],
      "source": [
        "sharpe_qs = pd.Series(qs.stats.rolling_sharpe(df_btc['Close'], rf = 0.05).values)\n",
        "sortino_qs = pd.Series(qs.stats.rolling_sortino(df_btc['Close'], rf = 0.05).values)\n",
        "sharpe_qs.index = df_btc.index\n",
        "sortino_qs.index = df_btc.index"
      ]
    },
    {
      "cell_type": "markdown",
      "metadata": {
        "id": "BwfzWRazXYky"
      },
      "source": [
        "Vejamos a correlação entre os dois índices"
      ]
    },
    {
      "cell_type": "code",
      "execution_count": null,
      "metadata": {
        "id": "X7ToNIcyX84y"
      },
      "outputs": [],
      "source": [
        "fig_corr = go.Figure()\n",
        "\n",
        "fig_corr.add_trace({'type':'scatter',\n",
        "                    'x': sharpe_qs,\n",
        "                    'y': sortino_qs,\n",
        "                    'mode': 'markers',\n",
        "                    'line':{'color':'blue'}})\n",
        "\n",
        "fig_corr.update_layout(template='simple_white', paper_bgcolor=\"#f7f8fa\",\n",
        "                        margin=dict(l=70, r=20, t=20, b=70),\n",
        "                        xaxis_title='<b>Sharpe', yaxis_title='<b>Sortino',\n",
        "                        width=500, height=500)"
      ]
    },
    {
      "cell_type": "code",
      "execution_count": null,
      "metadata": {
        "id": "U8uk7WAKY8Vc"
      },
      "outputs": [],
      "source": [
        "corr, p = stats.pearsonr(sharpe_qs.dropna(), sortino_qs.dropna())\n",
        "print('Correlação de Pearson, r=%.3f' %corr, 'p=%.3f' %p)"
      ]
    },
    {
      "cell_type": "markdown",
      "metadata": {
        "id": "2xSkaNnqZR3Y"
      },
      "source": [
        "Com uma correlação tão alta, seria possível tirar algum insight comparando os dois indicadores de risco?\n",
        "\n",
        "Uma correlação de Pearson de 𝑟 = 0.990 indica uma correlação extremamente alta entre os índices de Sharpe e Sortino. Isso significa que há uma relação linear muito forte e positiva entre esses dois indicadores de risco ajustado ao retorno. Quando a correlação é tão alta, isso geralmente sugere que as duas métricas estão capturando essencialmente o mesmo aspecto do desempenho ajustado ao risco, pelo menos em termos lineares."
      ]
    },
    {
      "cell_type": "code",
      "execution_count": null,
      "metadata": {
        "id": "LbWbmt0OZaMC"
      },
      "outputs": [],
      "source": [
        "fig = make_subplots(specs = [[{\"secondary_y\": True}]])\n",
        "\n",
        "fig.add_trace(go.Scatter(x = sharpe_qs.index, y = sharpe_qs,\n",
        "                         name = 'Sharpe', line = dict(color = 'blue', width = 2)),\n",
        "              secondary_y = False)\n",
        "\n",
        "fig.add_trace(go.Scatter(x = sortino_qs.index, y = sortino_qs,\n",
        "                         name = 'Sortino', line = dict(color = 'red', width = 2)),\n",
        "              secondary_y = False)\n",
        "\n",
        "fig.add_trace(go.Scatter(x = df_btc.index, y = np.log(df_btc['Close']),\n",
        "                         name = 'log price BTC-USD', line = dict(color = 'black', width = 2)),\n",
        "              secondary_y = True)\n",
        "\n",
        "fig.update_yaxes(title_text = 'Risk-adjuste values', secondary_y = False)\n",
        "fig.update_yaxes(title_text = 'log price BTC-USD', secondary_y = True)\n",
        "fig.update_layout(title='<b>Sharpe vs Sortino ratios', xaxis_title=\"<b>Data\", legend_title=\"\",\n",
        "                  font=dict(family=\"Arial, Arial, Arial\",size=15,color=\"black\"), template = 'simple_white', paper_bgcolor=\"#f7f8fa\",\n",
        "                  margin=dict(l=75, r=20, t=70, b=70), legend=dict(orientation=\"h\",yanchor=\"bottom\",y=1,xanchor=\"right\",x=0.4),\n",
        "                  width=1000,height=500)"
      ]
    },
    {
      "cell_type": "markdown",
      "metadata": {
        "id": "v58_80Ihd1_K"
      },
      "source": [
        "# 4. Insights a partir da correlação:\n",
        "\n",
        "Consistência na avaliação de risco: A alta correlação sugere que, em muitos casos, o desempenho relativo das carteiras ou investimentos será semelhante, independentemente de usar o índice de Sharpe ou o índice de Sortino. Isso pode indicar que ambos os índices oferecem resultados consistentes ao avaliar o equilíbrio entre retorno e risco.\n",
        "\n",
        "Enfoque na volatilidade negativa: Apesar da alta correlação, o índice de Sortino se concentra mais na volatilidade negativa (ou risco downside) do que o índice de Sharpe, que considera a volatilidade total. Se houver diferenças significativas na volatilidade downside entre investimentos ou carteiras, o índice de Sortino pode ser mais informativo para identificar qual deles melhor protege contra perdas.\n",
        "\n",
        "A decisão sobre qual índice usar pode depender do objetivo específico do investidor:\n",
        "\n",
        "Se o objetivo é entender o desempenho ajustado ao risco de maneira abrangente, o índice de Sharpe pode ser suficiente, dado que ele captura tanto o risco total quanto o retorno.\n",
        "\n",
        "Se o foco está na minimização de riscos significativos de desvalorização, especialmente em estratégias conservadoras, o índice de Sortino pode fornecer uma perspectiva mais relevante.\n",
        "\n",
        "Validação da estratégia de investimento: A alta correlação pode validar a estratégia de usar qualquer um dos índices para tomar decisões de investimento. Se ambos os índices levarem a conclusões semelhantes sobre quais investimentos são preferíveis com base no risco ajustado ao retorno, isso fortalece a confiança na análise realizada.\n",
        "\n",
        "Em resumo, com uma correlação tão alta entre os índices de Sharpe e Sortino, você pode confiar em qualquer um dos índices para avaliar o risco ajustado ao retorno, mas considere o contexto específico e o objetivo de investimento ao decidir qual índice utilizar."
      ]
    }
  ],
  "metadata": {
    "colab": {
      "provenance": [],
      "include_colab_link": true
    },
    "kernelspec": {
      "display_name": "Python 3",
      "name": "python3"
    },
    "language_info": {
      "codemirror_mode": {
        "name": "ipython",
        "version": 3
      },
      "file_extension": ".py",
      "mimetype": "text/x-python",
      "name": "python",
      "nbconvert_exporter": "python",
      "pygments_lexer": "ipython3",
      "version": "3.12.4"
    }
  },
  "nbformat": 4,
  "nbformat_minor": 0
}